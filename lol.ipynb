{
 "cells": [
  {
   "cell_type": "code",
   "execution_count": 1,
   "metadata": {},
   "outputs": [
    {
     "ename": "TypeError",
     "evalue": "'Graph' object is not callable",
     "output_type": "error",
     "traceback": [
      "\u001b[1;31m---------------------------------------------------------------------------\u001b[0m",
      "\u001b[1;31mTypeError\u001b[0m                                 Traceback (most recent call last)",
      "Cell \u001b[1;32mIn[1], line 37\u001b[0m\n\u001b[0;32m     34\u001b[0m     res,mem \u001b[38;5;241m=\u001b[39m memory_usage(proc\u001b[38;5;241m=\u001b[39m(cluster_points(), {}), interval \u001b[38;5;241m=\u001b[39m \u001b[38;5;241m1e-3\u001b[39m)\n\u001b[0;32m     35\u001b[0m     \u001b[38;5;28;01mreturn\u001b[39;00m res, \u001b[38;5;28mmax\u001b[39m(mem) \u001b[38;5;241m-\u001b[39m mem_before\n\u001b[1;32m---> 37\u001b[0m _,ramm\u001b[38;5;241m=\u001b[39m\u001b[43mmemory_usage_run_queries\u001b[49m\u001b[43m(\u001b[49m\u001b[43m)\u001b[49m\n\u001b[0;32m     39\u001b[0m \u001b[38;5;28mprint\u001b[39m(ramm)\n",
      "Cell \u001b[1;32mIn[1], line 34\u001b[0m, in \u001b[0;36mmemory_usage_run_queries\u001b[1;34m()\u001b[0m\n\u001b[0;32m     32\u001b[0m \u001b[38;5;66;03m# This part is added to calcauate the RAM usage\u001b[39;00m\n\u001b[0;32m     33\u001b[0m mem_before \u001b[38;5;241m=\u001b[39m \u001b[38;5;28mmax\u001b[39m(memory_usage())\n\u001b[1;32m---> 34\u001b[0m res,mem \u001b[38;5;241m=\u001b[39m \u001b[43mmemory_usage\u001b[49m\u001b[43m(\u001b[49m\u001b[43mproc\u001b[49m\u001b[38;5;241;43m=\u001b[39;49m\u001b[43m(\u001b[49m\u001b[43mcluster_points\u001b[49m\u001b[43m(\u001b[49m\u001b[43m)\u001b[49m\u001b[43m,\u001b[49m\u001b[43m \u001b[49m\u001b[43m{\u001b[49m\u001b[43m}\u001b[49m\u001b[43m)\u001b[49m\u001b[43m,\u001b[49m\u001b[43m \u001b[49m\u001b[43minterval\u001b[49m\u001b[43m \u001b[49m\u001b[38;5;241;43m=\u001b[39;49m\u001b[43m \u001b[49m\u001b[38;5;241;43m1e-3\u001b[39;49m\u001b[43m)\u001b[49m\n\u001b[0;32m     35\u001b[0m \u001b[38;5;28;01mreturn\u001b[39;00m res, \u001b[38;5;28mmax\u001b[39m(mem) \u001b[38;5;241m-\u001b[39m mem_before\n",
      "File \u001b[1;32mc:\\Python311\\Lib\\site-packages\\memory_profiler.py:379\u001b[0m, in \u001b[0;36mmemory_usage\u001b[1;34m(proc, interval, timeout, timestamps, include_children, multiprocess, max_usage, retval, stream, backend, max_iterations)\u001b[0m\n\u001b[0;32m    376\u001b[0m \u001b[38;5;66;03m# When there is an exception in the \"proc\" - the (spawned) monitoring processes don't get killed.\u001b[39;00m\n\u001b[0;32m    377\u001b[0m \u001b[38;5;66;03m# Therefore, the whole process hangs indefinitely. Here, we are ensuring that the process gets killed!\u001b[39;00m\n\u001b[0;32m    378\u001b[0m \u001b[38;5;28;01mtry\u001b[39;00m:\n\u001b[1;32m--> 379\u001b[0m     returned \u001b[38;5;241m=\u001b[39m \u001b[43mf\u001b[49m\u001b[43m(\u001b[49m\u001b[38;5;241;43m*\u001b[39;49m\u001b[43margs\u001b[49m\u001b[43m,\u001b[49m\u001b[43m \u001b[49m\u001b[38;5;241;43m*\u001b[39;49m\u001b[38;5;241;43m*\u001b[39;49m\u001b[43mkw\u001b[49m\u001b[43m)\u001b[49m\n\u001b[0;32m    380\u001b[0m     parent_conn\u001b[38;5;241m.\u001b[39msend(\u001b[38;5;241m0\u001b[39m)  \u001b[38;5;66;03m# finish timing\u001b[39;00m\n\u001b[0;32m    381\u001b[0m     ret \u001b[38;5;241m=\u001b[39m parent_conn\u001b[38;5;241m.\u001b[39mrecv()\n",
      "\u001b[1;31mTypeError\u001b[0m: 'Graph' object is not callable"
     ]
    }
   ],
   "source": [
    "from memory_profiler import memory_usage\n",
    "import Graph as G\n",
    "import numpy as np\n",
    "import random \n",
    "\n",
    "def cluster_points():\n",
    "    DBPath= \"dataset/DB1K.csv\"\n",
    "    DBGraph=G.Graph()\n",
    "    with open(DBPath, 'r') as f:\n",
    "        DB = f.readlines()\n",
    "        DB = [x.strip() for x in DB]\n",
    "        for i,x in enumerate(DB):\n",
    "            x = x.split(',')\n",
    "            x= np.array(x,dtype=float)\n",
    "            DBGraph.add_vertex(G.Vertex(int(x[0]),x[1:]))\n",
    "            # Graph.Insert(x[0], x[1], x[2])\n",
    "        # Choose R random neighbors for each vertex\n",
    "        size= len(DBGraph.verticies)\n",
    "        if(size==0 or size==1):\n",
    "            return\n",
    "        for vertex in DBGraph:\n",
    "            for i in range(10):\n",
    "                neighbor= DBGraph.get_vertex(int(random.random()*size))\n",
    "                while(neighbor==vertex):\n",
    "                    neighbor= DBGraph.get_vertex(int(random.random()*size))\n",
    "                DBGraph.add_edge((vertex.key,vertex.value),(neighbor.key,neighbor.value))\n",
    "    return DBGraph\n",
    "\n",
    "\n",
    "def memory_usage_run_queries():\n",
    "    global results\n",
    "    # This part is added to calcauate the RAM usage\n",
    "    mem_before = max(memory_usage())\n",
    "    res,mem = memory_usage(proc=(cluster_points(), {}), interval = 1e-3)\n",
    "    return res, max(mem) - mem_before\n",
    "\n",
    "res,ramm=memory_usage_run_queries()\n",
    "\n",
    "print(ramm)"
   ]
  },
  {
   "cell_type": "code",
   "execution_count": null,
   "metadata": {},
   "outputs": [],
   "source": []
  }
 ],
 "metadata": {
  "kernelspec": {
   "display_name": "Python 3",
   "language": "python",
   "name": "python3"
  },
  "language_info": {
   "codemirror_mode": {
    "name": "ipython",
    "version": 3
   },
   "file_extension": ".py",
   "mimetype": "text/x-python",
   "name": "python",
   "nbconvert_exporter": "python",
   "pygments_lexer": "ipython3",
   "version": "3.11.0"
  }
 },
 "nbformat": 4,
 "nbformat_minor": 2
}
