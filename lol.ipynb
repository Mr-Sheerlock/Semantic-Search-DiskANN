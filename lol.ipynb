{
 "cells": [
  {
   "cell_type": "code",
   "execution_count": 2,
   "metadata": {},
   "outputs": [],
   "source": [
    "from memory_profiler import memory_usage\n",
    "import Graph as G\n",
    "import numpy as np\n",
    "import random \n",
    "\n",
    "def cluster_points():\n",
    "    DBPath= \"dataset/DB1K.csv\"\n",
    "    DBGraph=G.Graph()\n",
    "    with open(DBPath, 'r') as f:\n",
    "        DB = f.readlines()\n",
    "        DB = [x.strip() for x in DB]\n",
    "        for i,x in enumerate(DB):\n",
    "            x = x.split(',')\n",
    "            x= np.array(x,dtype=float)\n",
    "            DBGraph.add_vertex(G.Vertex(int(x[0]),x[1:]))\n",
    "            # Graph.Insert(x[0], x[1], x[2])\n",
    "        # Choose R random neighbors for each vertex\n",
    "        size= len(DBGraph.verticies)\n",
    "        if(size==0 or size==1):\n",
    "            return\n",
    "        for vertex in DBGraph:\n",
    "            for i in range(10):\n",
    "                neighbor= DBGraph.get_vertex(int(random.random()*size))\n",
    "                while(neighbor==vertex):\n",
    "                    neighbor= DBGraph.get_vertex(int(random.random()*size))\n",
    "                DBGraph.add_edge((vertex.key,vertex.value),(neighbor.key,neighbor.value))\n",
    "    return DBGraph\n",
    "\n",
    "\n",
    "def memory_usage_run_queries():\n",
    "    global results\n",
    "    # This part is added to calcauate the RAM usage\n",
    "    mem_before = max(memory_usage())\n",
    "    res,mem = memory_usage(proc=(cluster_points(), {}), interval = 1e-3)\n",
    "    return res, max(mem) - mem_before\n",
    "\n",
    "res,ramm=memory_usage_run_queries()\n",
    "\n",
    "print(ramm)"
   ]
  },
  {
   "cell_type": "code",
   "execution_count": null,
   "metadata": {},
   "outputs": [],
   "source": [
    "# read data from csv file and put them into numpy array\n",
    "# DBPath= \"dataset/DB1K.csv\"\n",
    "# DB=[]\n",
    "# with open(DBPath, 'r') as f:\n",
    "#     DB = f.readlines()\n",
    "#     DB = [x.strip() for x in DB]\n",
    "#     for i,x in enumerate(DB):\n",
    "#         x = x.split(',')\n",
    "#         x= np.array(x,dtype=float)\n",
    "#         DB[i]=x\n",
    "#         # Graph.Insert(x[0], x[1], x[2])\n"
   ]
  }
 ],
 "metadata": {
  "kernelspec": {
   "display_name": "Python 3",
   "language": "python",
   "name": "python3"
  },
  "language_info": {
   "codemirror_mode": {
    "name": "ipython",
    "version": 3
   },
   "file_extension": ".py",
   "mimetype": "text/x-python",
   "name": "python",
   "nbconvert_exporter": "python",
   "pygments_lexer": "ipython3",
   "version": "3.11.0"
  }
 },
 "nbformat": 4,
 "nbformat_minor": 2
}
