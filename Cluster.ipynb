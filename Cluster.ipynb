{
 "cells": [
  {
   "cell_type": "code",
   "execution_count": 1,
   "metadata": {},
   "outputs": [
    {
     "name": "stdout",
     "output_type": "stream",
     "text": [
      "L,R : 15 17\n",
      "no. of clusters:  20\n",
      "estimated around  50.0  records per cluster\n",
      "Inserting 1000 records\n"
     ]
    },
    {
     "name": "stderr",
     "output_type": "stream",
     "text": [
      "C:\\Users\\DELL\\AppData\\Roaming\\Python\\Python311\\site-packages\\sklearn\\cluster\\_kmeans.py:1416: FutureWarning: The default value of `n_init` will change from 10 to 'auto' in 1.4. Set the value of `n_init` explicitly to suppress the warning\n",
      "  super()._check_params_vs_input(X, default_n_init=10)\n"
     ]
    },
    {
     "name": "stdout",
     "output_type": "stream",
     "text": [
      "writing to  ClusteredData/0.bin\n",
      "writing to  ClusteredData/1.bin\n",
      "writing to  ClusteredData/2.bin\n",
      "writing to  ClusteredData/3.bin\n",
      "writing to  ClusteredData/4.bin\n",
      "writing to  ClusteredData/5.bin\n",
      "writing to  ClusteredData/6.bin\n",
      "writing to  ClusteredData/7.bin\n",
      "writing to  ClusteredData/8.bin\n",
      "writing to  ClusteredData/9.bin\n",
      "writing to  ClusteredData/10.bin\n",
      "writing to  ClusteredData/11.bin\n",
      "writing to  ClusteredData/12.bin\n",
      "writing to  ClusteredData/13.bin\n",
      "writing to  ClusteredData/14.bin\n",
      "writing to  ClusteredData/15.bin\n",
      "writing to  ClusteredData/16.bin\n",
      "writing to  ClusteredData/17.bin\n",
      "writing to  ClusteredData/18.bin\n",
      "writing to  ClusteredData/19.bin\n"
     ]
    }
   ],
   "source": [
    "# import numpy as np\n",
    "# from vec_db import VecDB\n",
    "# from dataclasses import dataclass\n",
    "# from typing import List\n",
    "# from memory_profiler import memory_usage\n",
    "# from sklearn.cluster import KMeans\n",
    "\n",
    "\n",
    "# DB_SEED_NUMBER=50\n",
    "# rng = np.random.default_rng(DB_SEED_NUMBER)\n",
    "# vectors = rng.random((10**6, 70), dtype=np.float32)\n",
    "# # vectors = rng.random((2*10**3, 70), dtype=np.float32)\n",
    "# vectors /= np.linalg.norm(vectors, axis=1)[:, np.newaxis]\n",
    "\n",
    "# clustered_DB=KMeans(n_clusters=100).fit(vectors)\n",
    "\n",
    "\n",
    "# # db = VecDB(file_path=\"ClusteredData/\")\n",
    "# # db.n_clusters=10\n",
    "# # print(\"L,R :\",db.L,db.R)\n",
    "# # print(\"no. of clusters: \",db.n_clusters)\n",
    "# # print(\"estimated around \",len(vectors)/db.n_clusters,\" records per cluster\")\n",
    "# # print(\"Inserting\", len(vectors), \"records\")\n",
    "# # records_dict = [{\"id\": i, \"embed\": list(row)} for i, row in enumerate(vectors)]\n",
    "# # db.insert_records(records_dict)\n",
    "\n",
    "import numpy as np\n",
    "from vec_db import VecDB\n",
    "import time\n",
    "from dataclasses import dataclass\n",
    "from typing import List\n",
    "from memory_profiler import memory_usage\n",
    "import gc\n",
    "\n",
    "DB_SEED_NUMBER=50\n",
    "rng = np.random.default_rng(DB_SEED_NUMBER)\n",
    "vectors = rng.random((10**3, 70), dtype=np.float32)\n",
    "# vectors = rng.random((2*10**3, 70), dtype=np.float32)\n",
    "\n",
    "\n",
    "db = VecDB(file_path=\"ClusteredData/\")\n",
    "db.n_clusters=20\n",
    "print(\"L,R :\",db.L,db.R)\n",
    "print(\"no. of clusters: \",db.n_clusters)\n",
    "print(\"estimated around \",len(vectors)/db.n_clusters,\" records per cluster\")\n",
    "print(\"Inserting\", len(vectors), \"records\")\n",
    "records_dict = [{\"id\": i, \"embed\": list(row)} for i, row in enumerate(vectors)]\n",
    "db.insert_records(records_dict)"
   ]
  },
  {
   "cell_type": "code",
   "execution_count": 18,
   "metadata": {},
   "outputs": [
    {
     "name": "stdout",
     "output_type": "stream",
     "text": [
      "running k-means on cpu..\n"
     ]
    },
    {
     "name": "stderr",
     "output_type": "stream",
     "text": [
      "[running kmeans]: 38it [00:00, 60.31it/s, center_shift=0.000094, iteration=38, tol=0.000100]"
     ]
    },
    {
     "name": "stdout",
     "output_type": "stream",
     "text": [
      "[0 0 0 1 4 2 9 1 7 0]\n",
      "[8 7 9 3 4 6 5 1 1 3]\n",
      "838\n"
     ]
    },
    {
     "name": "stderr",
     "output_type": "stream",
     "text": [
      "\n"
     ]
    }
   ],
   "source": [
    "import numpy as np\n",
    "from vec_db import VecDB\n",
    "import time\n",
    "from dataclasses import dataclass\n",
    "from typing import List\n",
    "from memory_profiler import memory_usage\n",
    "import gc\n",
    "from sklearn.cluster import KMeans, MiniBatchKMeans\n",
    "from sklearn.decomposition import PCA\n",
    "from sklearn.preprocessing import KBinsDiscretizer\n",
    "\n",
    "from kmeans_pytorch import kmeans\n",
    "import torch\n",
    "\n",
    "\n",
    "# Instantiate with M=8 sub-spaces\n",
    "\n",
    "# Train codewords\n",
    "\n",
    "# Encode to PQ-codes\n",
    "\n",
    "\n",
    "\n",
    "DB_SEED_NUMBER=50\n",
    "rng = np.random.default_rng(DB_SEED_NUMBER)\n",
    "vectors = rng.random((10**5, 70), dtype=np.float32)\n",
    "# vectors = rng.random((2*10**3, 70), dtype=np.float32)\n",
    "\n",
    "vectors /= np.linalg.norm(vectors, axis=1)[:, np.newaxis]\n",
    "# db = VecDB(file_path=\"ClusteredData/\")\n",
    "n_clusters=10\n",
    "# BatchSize=256*20\n",
    "results=KMeans(n_clusters=n_clusters,n_init=10).fit(vectors)\n",
    "\n",
    "torchVectors=torch.from_numpy(vectors)\n",
    "cluster_ids_x, _ = kmeans(\n",
    "    torchVectors, num_clusters=n_clusters, distance='cosine'\n",
    ")\n",
    "# print(type(cluster_ids_x))\n",
    "cluster_ids_x=cluster_ids_x.numpy()\n",
    "print(cluster_ids_x[:10])\n",
    "print(results.labels_[:10])\n",
    "print(np.sum(results.labels_==cluster_ids_x))"
   ]
  }
 ],
 "metadata": {
  "kernelspec": {
   "display_name": "Python 3",
   "language": "python",
   "name": "python3"
  },
  "language_info": {
   "codemirror_mode": {
    "name": "ipython",
    "version": 3
   },
   "file_extension": ".py",
   "mimetype": "text/x-python",
   "name": "python",
   "nbconvert_exporter": "python",
   "pygments_lexer": "ipython3",
   "version": "3.11.0"
  }
 },
 "nbformat": 4,
 "nbformat_minor": 2
}
