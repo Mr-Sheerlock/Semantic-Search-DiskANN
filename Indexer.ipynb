{
 "cells": [
  {
   "cell_type": "code",
   "execution_count": 1,
   "metadata": {},
   "outputs": [],
   "source": [
    "from utils import *"
   ]
  },
  {
   "cell_type": "code",
   "execution_count": 5,
   "metadata": {},
   "outputs": [
    {
     "ename": "TypeError",
     "evalue": "random() got an unexpected keyword argument 'dtype'",
     "output_type": "error",
     "traceback": [
      "\u001b[1;31m---------------------------------------------------------------------------\u001b[0m",
      "\u001b[1;31mTypeError\u001b[0m                                 Traceback (most recent call last)",
      "Cell \u001b[1;32mIn[5], line 9\u001b[0m\n\u001b[0;32m      7\u001b[0m medoid,min_distance\u001b[38;5;241m=\u001b[39mget_medoid(DBGraph)\n\u001b[0;32m      8\u001b[0m \u001b[38;5;66;03m#how to choose query? how to choose k,L?\u001b[39;00m\n\u001b[1;32m----> 9\u001b[0m Query\u001b[38;5;241m=\u001b[39m\u001b[43mnp\u001b[49m\u001b[38;5;241;43m.\u001b[39;49m\u001b[43mrandom\u001b[49m\u001b[38;5;241;43m.\u001b[39;49m\u001b[43mrandom\u001b[49m\u001b[43m(\u001b[49m\u001b[43m(\u001b[49m\u001b[38;5;241;43m1\u001b[39;49m\u001b[43m,\u001b[49m\u001b[43m \u001b[49m\u001b[38;5;241;43m70\u001b[39;49m\u001b[43m)\u001b[49m\u001b[43m,\u001b[49m\u001b[43m \u001b[49m\u001b[43mdtype\u001b[49m\u001b[38;5;241;43m=\u001b[39;49m\u001b[43mnp\u001b[49m\u001b[38;5;241;43m.\u001b[39;49m\u001b[43mfloat32\u001b[49m\u001b[43m)\u001b[49m\n\u001b[0;32m     10\u001b[0m Greedy_Search(DBGraph,Query,k,L)\n\u001b[0;32m     12\u001b[0m \u001b[38;5;66;03m# for i,vertex in enumerate(DBGraph):\u001b[39;00m\n\u001b[0;32m     13\u001b[0m \u001b[38;5;66;03m#             print(vertex)\u001b[39;00m\n\u001b[0;32m     14\u001b[0m \u001b[38;5;66;03m#             if(i==3):\u001b[39;00m\n\u001b[0;32m     15\u001b[0m \u001b[38;5;66;03m#                 break\u001b[39;00m\n",
      "File \u001b[1;32mmtrand.pyx:438\u001b[0m, in \u001b[0;36mnumpy.random.mtrand.RandomState.random\u001b[1;34m()\u001b[0m\n",
      "\u001b[1;31mTypeError\u001b[0m: random() got an unexpected keyword argument 'dtype'"
     ]
    }
   ],
   "source": [
    "R=5\n",
    "k=10\n",
    "L=10\n",
    "path='DB1K.csv'\n",
    "DBGraph=Initialize_Random_Graph(path,R)\n",
    "\n",
    "medoid,min_distance=get_medoid(DBGraph)\n",
    "#how to choose query? how to choose k,L?\n",
    "rng = np.random.default_rng(50)\n",
    "Query=rng.random((1, 70), dtype=np.float32)\n",
    "Greedy_Search(DBGraph,Query,k,L)\n",
    "\n",
    "# for i,vertex in enumerate(DBGraph):\n",
    "#             print(vertex)\n",
    "#             if(i==3):\n",
    "#                 break"
   ]
  }
 ],
 "metadata": {
  "kernelspec": {
   "display_name": "Python 3",
   "language": "python",
   "name": "python3"
  },
  "language_info": {
   "codemirror_mode": {
    "name": "ipython",
    "version": 3
   },
   "file_extension": ".py",
   "mimetype": "text/x-python",
   "name": "python",
   "nbconvert_exporter": "python",
   "pygments_lexer": "ipython3",
   "version": "3.11.0"
  }
 },
 "nbformat": 4,
 "nbformat_minor": 2
}
