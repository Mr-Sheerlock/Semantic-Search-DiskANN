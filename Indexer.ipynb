{
 "cells": [
  {
   "cell_type": "code",
   "execution_count": 10,
   "metadata": {},
   "outputs": [],
   "source": [
    "from utils import *"
   ]
  },
  {
   "cell_type": "code",
   "execution_count": 11,
   "metadata": {},
   "outputs": [
    {
     "ename": "NameError",
     "evalue": "name 'Initialize_Random_Graph' is not defined",
     "output_type": "error",
     "traceback": [
      "\u001b[1;31m---------------------------------------------------------------------------\u001b[0m",
      "\u001b[1;31mNameError\u001b[0m                                 Traceback (most recent call last)",
      "Cell \u001b[1;32mIn[11], line 1\u001b[0m\n\u001b[1;32m----> 1\u001b[0m DBGraph\u001b[38;5;241m=\u001b[39m\u001b[43mInitialize_Random_Graph\u001b[49m()\n\u001b[0;32m      2\u001b[0m R\u001b[38;5;241m=\u001b[39m\u001b[38;5;241m5\u001b[39m\n\u001b[0;32m      6\u001b[0m \u001b[38;5;66;03m# for i,vertex in enumerate(DBGraph):\u001b[39;00m\n\u001b[0;32m      7\u001b[0m \u001b[38;5;66;03m#             print(vertex)\u001b[39;00m\n\u001b[0;32m      8\u001b[0m \u001b[38;5;66;03m#             if(i==3):\u001b[39;00m\n\u001b[0;32m      9\u001b[0m \u001b[38;5;66;03m#                 break\u001b[39;00m\n",
      "\u001b[1;31mNameError\u001b[0m: name 'Initialize_Random_Graph' is not defined"
     ]
    }
   ],
   "source": [
    "R=5\n",
    "k=10\n",
    "L=10\n",
    "DBGraph=Initialize_Random_Graph()\n",
    "\n",
    "medoid,min_distance=get_medoid(DBGraph)\n",
    "#how to choose query? how to choose k,L?\n",
    "Query=np.random((1, 70), dtype=np.float32)\n",
    "Greedy_Search(DBGraph,Query,k,L)\n",
    "\n",
    "# for i,vertex in enumerate(DBGraph):\n",
    "#             print(vertex)\n",
    "#             if(i==3):\n",
    "#                 break"
   ]
  }
 ],
 "metadata": {
  "kernelspec": {
   "display_name": "Python 3",
   "language": "python",
   "name": "python3"
  },
  "language_info": {
   "codemirror_mode": {
    "name": "ipython",
    "version": 3
   },
   "file_extension": ".py",
   "mimetype": "text/x-python",
   "name": "python",
   "nbconvert_exporter": "python",
   "pygments_lexer": "ipython3",
   "version": "3.11.0"
  }
 },
 "nbformat": 4,
 "nbformat_minor": 2
}
