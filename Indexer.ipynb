{
  "cells": [
    {
      "cell_type": "code",
      "execution_count": 3,
      "metadata": {
        "id": "6H7nuY3KrdxO"
      },
      "outputs": [],
      "source": [
        "# from utils import *\n",
        "import random\n",
        "# import Graph as G\n",
        "import numpy as np\n",
        "import pandas as pd\n",
        "import pickle\n",
        "import networkx as nx\n"
      ]
    },
    {
      "cell_type": "code",
      "execution_count": 4,
      "metadata": {
        "id": "9GI4gvrXrkCE"
      },
      "outputs": [],
      "source": [
        "class Vertex(object):\n",
        "    def __init__(self, key):\n",
        "        self.key = key # 4 bytes\n",
        "        self.neighbors = set()\n",
        "        self.value=[None]\n",
        "\n",
        "    def __init__(self, key,value):\n",
        "        self.key = key\n",
        "        self.neighbors = set()\n",
        "        self.value=value\n",
        "\n",
        "    def add_neighbor(self, neighbor):\n",
        "        self.neighbors.add(neighbor)\n",
        "\n",
        "    def __str__(self):\n",
        "        return '{} neighbors: {} \\n values: {}'.format(\n",
        "            self.key,\n",
        "            [x for x in self.neighbors]\n",
        "            ,self.value[:3]\n",
        "        )\n",
        "    \n",
        "    # get neighbor vertices\n",
        "    def get_neighbors(self):\n",
        "        return self.neighbors\n",
        "\n",
        "class Graph(object):\n",
        "    def __init__(self):\n",
        "        self.verticies = {}\n",
        "\n",
        "    def add_vertex(self, vertex):\n",
        "        self.verticies[vertex.key] = vertex\n",
        "\n",
        "    def get_vertex(self, key):\n",
        "        try:\n",
        "            return self.verticies[key]\n",
        "        except KeyError:\n",
        "            return None\n",
        "\n",
        "    def __contains__(self, key):\n",
        "        return key in self.verticies\n",
        "\n",
        "    def add_edge(self, v1_info, v2_info):\n",
        "        v1_key,v1_value=v1_info\n",
        "        v2_key,v2_value=v2_info\n",
        "        if v1_key not in self.verticies:\n",
        "            self.add_vertex(Vertex(v1_key,v1_value))\n",
        "        if v2_key not in self.verticies:\n",
        "            self.add_vertex(Vertex(v2_key,v2_value))\n",
        "        self.verticies[v1_key].add_neighbor(v2_key)\n",
        "\n",
        "    def get_vertices(self):\n",
        "        return self.verticies.keys()\n",
        "\n",
        "    def __iter__(self):\n",
        "        return iter(self.verticies.values())\n",
        "\n",
        "    def __str__(self):\n",
        "        return 'Graph({})'.format(dict(self.verticies))"
      ]
    },
    {
      "cell_type": "code",
      "execution_count": 1,
      "metadata": {
        "id": "QhrdY9wurdxP"
      },
      "outputs": [],
      "source": [
        "class VecDB():\n",
        "    def __init__(self,R,L,alpha,K,datasetPath='dataset/DB1K.csv'):\n",
        "        self.R=R\n",
        "        self.L=L\n",
        "        self.alpha=alpha\n",
        "        self.k=K\n",
        "        self.datasetPath=datasetPath\n",
        "        self.DBGraph=self.Initialize_Random_Graph()\n",
        "        self.medoid=self.get_medoid()\n",
        "    #TODO: make another constructor\n",
        "\n",
        "    def load_binary_data(self, binary_file_path):\n",
        "    # Load the data from the binary file\n",
        "        with open(binary_file_path, 'rb') as f:\n",
        "            data = pickle.load(f)\n",
        "        return data\n",
        "\n",
        "    # Get vertices from DB and insert them into the graph\n",
        "    def Initialize_Random_Graph(self):\n",
        "        DBGraph=Graph()\n",
        "        DBdata = self.load_binary_data(self.datasetPath)\n",
        "        for row in DBdata.itertuples(index=True, name='Pandas'):\n",
        "            dataKey = int(row[1])\n",
        "            dataValue= np.array(row[2:],dtype=float)\n",
        "            # print(dataValue)\n",
        "            DBGraph.add_vertex(Vertex(dataKey, dataValue))\n",
        "\n",
        "        size= len(DBGraph.verticies)\n",
        "        if(size==0 or size==1):\n",
        "            return\n",
        "\n",
        "        #Building Edges\n",
        "        for vertex in DBGraph:\n",
        "            # we want R neighbors\n",
        "            for i in range(self.R):\n",
        "                neighbor= DBGraph.get_vertex(int(random.random()*size))\n",
        "                while(neighbor==vertex):\n",
        "                    neighbor= DBGraph.get_vertex(int(random.random()*size))\n",
        "                DBGraph.add_edge((vertex.key,vertex.value),(neighbor.key,neighbor.value))\n",
        "        return DBGraph\n",
        "\n",
        "\n",
        "    # gets euclidean distance between 2 vectors\n",
        "    def get_distance(self,v1,v2):\n",
        "        dist = np.dot(v1,v2) / (np.linalg.norm(v1) * np.linalg.norm(v2))\n",
        "        # print(v1.shape, v2.shape)\n",
        "        return 1.0 - dist\n",
        "        # return  np.linalg.norm(v1-v2)\n",
        "\n",
        "\n",
        "    # # gets medoid of a graph\n",
        "    # def get_medoid(self):\n",
        "    #     min_distance=10000000000000000000\n",
        "    #     medoid=None\n",
        "    #     for vertex in self.DBGraph:\n",
        "    #         current_total_distance=0\n",
        "    #         for vertex2 in self.DBGraph:\n",
        "    #             if(vertex==vertex2):\n",
        "    #                 continue\n",
        "    #             dist=self.get_distance(vertex.value,vertex2.value)\n",
        "    #             current_total_distance+=dist\n",
        "\n",
        "    #         if(current_total_distance<min_distance):\n",
        "    #             min_distance=current_total_distance\n",
        "    #             medoid=vertex\n",
        "    #     print(medoid.key)\n",
        "    #     return medoid,min_distance\n",
        "\n",
        "    #doesn't change with the measure of distance\n",
        "    def get_medoid(self):\n",
        "        vX = list(self.DBGraph.get_vertices())\n",
        "        Embeddings = [self.DBGraph.verticies[i].value for i in vX]\n",
        "        vMean = np.mean(Embeddings, axis=0)                               # compute centroid\n",
        "        # i = np.argmin([sum((x - vMean)**2) for x in Embeddings])          # pick a point closest to centroid\n",
        "        minIndex = self.DBGraph.get_vertex(np.argmin([sum((x - vMean)**2) for x in Embeddings]))\n",
        "        # print(i)\n",
        "        return minIndex # pick a point closest to centroid\n",
        "\n",
        "\n",
        "\n",
        "    #gets arg min distance from any vertex in Anyset to Query and min dist\n",
        "    def get_min_dist (self,AnyKeysSet,Query):\n",
        "        min_dist=100000000\n",
        "        min_vertex=None\n",
        "        for vertexKey in AnyKeysSet:\n",
        "            # print(\"vertex\",vertex)\n",
        "            # print(\"Query\",Query[:3])\n",
        "            vertex=self.DBGraph.get_vertex(vertexKey)\n",
        "            dist=self.get_distance(vertex.value,Query)\n",
        "            print(dist)\n",
        "            if(dist<min_dist):\n",
        "                min_dist=dist\n",
        "                min_vertex=vertex\n",
        "        return min_vertex,min_dist\n",
        "\n",
        "    def get_min_dist_Key (self,AnyKeysSet,Query):\n",
        "        # def get_query_dist(x):\n",
        "        #   return self.get_distance(x, Query)\n",
        "\n",
        "        # getQDist = np.vectorize(get_query_dist)\n",
        "        # arrKey = list(AnyKeysSet)\n",
        "        # arrEmb = np.array([self.DBGraph.get_vertex(i).value for i in arrKey])\n",
        "        # arrEmb = get_query_dist(arrEmb)\n",
        "\n",
        "        # # minDist = np.linalg.norm(arrEmb, axis=1)\n",
        "        # minIndex = np.argmin(arrEmb)\n",
        "        # return arrKey[minIndex], -1\n",
        "\n",
        "        min_dist=50\n",
        "        min_vertex=None\n",
        "        for vertexKey in AnyKeysSet:\n",
        "            # print(\"vertex\",vertex)\n",
        "            # print(\"Query\",Query[:3])\n",
        "            vertex=self.DBGraph.get_vertex(vertexKey)\n",
        "            dist=self.get_distance(vertex.value,Query)\n",
        "            # print(dist)\n",
        "            if(dist<min_dist):\n",
        "                min_dist=dist\n",
        "                min_vertex=vertex.key\n",
        "        return min_vertex,min_dist\n",
        "\n",
        "\n",
        "    #initially, start is the medoid\n",
        "    # s is a vertex, Query is a vector\n",
        "    # k is a number, L is a number\n",
        "    # TODO: change them to be indices instead of vertices to save ram\n",
        "    def Greedy_Search(self,start,Query, k):\n",
        "        search_List={start.key}\n",
        "        Visited=set()\n",
        "        #TODO: make the visited and the possible frontier set of indices instead of vertices to save ram.\n",
        "        possible_frontier=search_List\n",
        "        while possible_frontier != set():\n",
        "            # print('possible_frontier',possible_frontier)\n",
        "            p_star,_= self.get_min_dist_Key(possible_frontier,Query)\n",
        "\n",
        "            # print('pstar',p_star)\n",
        "            # if p_star==None:\n",
        "            #     # break\n",
        "            #     print('frontier: ')\n",
        "            #     for v in possible_frontier:\n",
        "            #         print(v)\n",
        "            #     print(possible_frontier==set())\n",
        "            search_List=search_List.union(self.DBGraph.get_vertex(p_star).neighbors)\n",
        "            Visited.add(p_star)\n",
        "            if(len(search_List)>self.L):\n",
        "                #update search list to retain closes L points to x_q\n",
        "                search_ListL_L=list(search_List)\n",
        "                search_ListL_L.sort(key=lambda x: self.get_distance(self.DBGraph.get_vertex(x).value,Query))\n",
        "                # only maintain L closest points\n",
        "                search_ListL_L=search_ListL_L[:self.L]\n",
        "                search_List=set(search_ListL_L)\n",
        "\n",
        "            possible_frontier=search_List.difference(Visited)\n",
        "\n",
        "        search_ListL_L=list(search_List)\n",
        "        search_ListL_L.sort(key=lambda x: self.get_distance(self.DBGraph.get_vertex(x).value,Query))\n",
        "        # only maintain k closest points\n",
        "        search_ListL_L=search_ListL_L[:k]\n",
        "        search_List=set(search_ListL_L)\n",
        "        # both are vectors of integers\n",
        "        return search_List,Visited\n",
        "\n",
        "    # # Robust pruning\n",
        "    #candidate set is set of integers\n",
        "    def Robust_Prune(self,point,candidate_set,alpha):\n",
        "        # print(candidate_set)\n",
        "        candidate_set=candidate_set.union(point.neighbors)\n",
        "        # candidate_set.difference({point.key}) # changed\n",
        "        candidate_set=candidate_set.difference({point.key}) # changed\n",
        "        point.neighbors=set()\n",
        "        # print(\"candidate_set\", candidate_set)\n",
        "        # while candidate_set not empty\n",
        "        while candidate_set:\n",
        "            p_star,_= self.get_min_dist_Key(candidate_set,point.value)\n",
        "            point.neighbors.add(p_star)\n",
        "            if(len(point.neighbors)==self.R):\n",
        "                break\n",
        "            DummySet=candidate_set.copy()\n",
        "            for candidatePointKey in candidate_set:\n",
        "                candidatePoint=self.DBGraph.get_vertex(candidatePointKey)\n",
        "                # print(alpha * self.get_distance(self.DBGraph.get_vertex(p_star).value,candidatePoint.value), \" <= \", self.get_distance(candidatePoint.value,point.value))\n",
        "                # print(alpha)\n",
        "                # \">=\" condition is reversed as we use cosine similarity (paper uses L2), so higher value means it is closer\n",
        "                if(alpha * self.get_distance(self.DBGraph.get_vertex(p_star).value,candidatePoint.value) <= self.get_distance(candidatePoint.value,point.value)):\n",
        "                    # print(\"HEEEEEEEEEEEEEEEEELPPPPPPPPPPP !!!!!!!!!!!!!!!!!!!!!!\")\n",
        "                    DummySet.remove(candidatePoint.key)\n",
        "            candidate_set=DummySet\n",
        "\n",
        "\n",
        "    def Build_Index(self):\n",
        "\n",
        "        # R = min(R, len(dataset))\n",
        "        self.iterationOverGraph(1) #alpha=1\n",
        "        self.iterationOverGraph(self.alpha) #alpha=2\n",
        "\n",
        "\n",
        "\n",
        "    def iterationOverGraph(self,alpha):\n",
        "        # print('medoid',medoid)\n",
        "        randIndex = list(self.DBGraph.get_vertices())\n",
        "        random.shuffle(randIndex)\n",
        "        # random permutation + sequential graph update\n",
        "        for n in randIndex:\n",
        "            node = self.DBGraph.get_vertex(n)\n",
        "            # print(n)\n",
        "\n",
        "            (_,V) = self.Greedy_Search(self.medoid, node.value, 1) #K=1\n",
        "            self.Robust_Prune(node, V, alpha)\n",
        "            neighbors = node.get_neighbors()\n",
        "\n",
        "            for inbKey in neighbors:\n",
        "\n",
        "                # CHECK : The backward edge is always added\n",
        "                # check here in case we shouldn't add it in all cases ? Might be incorrect?\n",
        "                inb=self.DBGraph.get_vertex(inbKey)\n",
        "                inb.add_neighbor(node.key)\n",
        "                if len(inb.get_neighbors()) > self.R:\n",
        "                    # print(\"inb.get_neighbors()\", inb.get_neighbors())\n",
        "                    self.Robust_Prune(inb, inb.get_neighbors(), alpha)\n"
      ]
    },
    {
      "cell_type": "code",
      "execution_count": 12,
      "metadata": {
        "id": "_wDkWRxGrdxQ"
      },
      "outputs": [],
      "source": [
        "random_vec=np.random.rand(1,70).T"
      ]
    },
    {
      "cell_type": "markdown",
      "metadata": {
        "id": "lwydV6ZmrdxQ"
      },
      "source": [
        "# Main cell"
      ]
    },
    {
      "cell_type": "code",
      "execution_count": 6,
      "metadata": {
        "colab": {
          "base_uri": "https://localhost:8080/",
          "height": 1000
        },
        "id": "sc61dhjLrdxR",
        "outputId": "0f788e18-a7bb-4efb-d5bd-29fda4003149"
      },
      "outputs": [],
      "source": [
        "R=5\n",
        "k=10\n",
        "L=10\n",
        "alpha=2\n",
        "path='dataset/DB1k.bin'\n",
        "\n",
        "myDB= VecDB(R,L,alpha,k,path)\n",
        "myDB.Build_Index()\n"
      ]
    },
    {
      "cell_type": "code",
      "execution_count": 20,
      "metadata": {
        "colab": {
          "base_uri": "https://localhost:8080/",
          "height": 789
        },
        "id": "dibOs_VRrdxR",
        "outputId": "70c82800-69a2-4425-c611-f23d784e4e1c"
      },
      "outputs": [
        {
          "name": "stdout",
          "output_type": "stream",
          "text": [
            "------------------------\n",
            "len of TopK is: 10\n",
            "[0.78736928]\n",
            "------------------------\n",
            "[0.83125811]\n",
            "------------------------\n",
            "[0.81131937]\n",
            "------------------------\n",
            "[0.77704671]\n",
            "------------------------\n",
            "[0.81683463]\n",
            "------------------------\n",
            "[0.78043321]\n",
            "------------------------\n",
            "[0.77580986]\n",
            "------------------------\n",
            "[0.80939915]\n",
            "------------------------\n",
            "[0.79875449]\n",
            "------------------------\n",
            "[0.77611602]\n",
            "------------------------\n"
          ]
        }
      ],
      "source": [
        "TopK,_= myDB.Greedy_Search(myDB.medoid,random_vec, k)\n",
        "\n",
        "# actual eqn to be tested with\n",
        "vectors=np.array([myDB.DBGraph.get_vertex(i).value for i in myDB.DBGraph.get_vertices()])\n",
        "actual_query = np.argsort(vectors.dot(random_vec).T / (np.linalg.norm(vectors, axis=1) * np.linalg.norm(random_vec)), axis= 1).squeeze().tolist()[::-1]\n",
        "\n",
        "# print('The vector is:')\n",
        "# print(random_vec)\n",
        "print('------------------------')\n",
        "print('len of TopK is:',len(TopK))\n",
        "\n",
        "# print(TopK.shape)\n",
        "for lol in TopK:\n",
        "    # print(lol)\n",
        "    print(1-myDB.get_distance(myDB.DBGraph.get_vertex(lol).value,random_vec))\n",
        "    print('------------------------')"
      ]
    },
    {
      "cell_type": "markdown",
      "metadata": {
        "id": "tT38W7sDrdxS"
      },
      "source": [
        "# Convert to binary"
      ]
    },
    {
      "cell_type": "code",
      "execution_count": 7,
      "metadata": {
        "id": "FiDgJqF0rdxS"
      },
      "outputs": [],
      "source": [
        "def csv_to_binary(csv_file_path, binary_file_path):\n",
        "    # Read the CSV data\n",
        "    data = pd.read_csv(csv_file_path, header=None)\n",
        "    # print(data)\n",
        "    # Write the data to a binary file\n",
        "    with open(binary_file_path, 'wb') as f:\n",
        "        pickle.dump(data, f)\n",
        "\n",
        "csv_to_binary('dataset/DB1k.csv','dataset/DB1k.bin')"
      ]
    },
    {
      "cell_type": "markdown",
      "metadata": {
        "id": "6kMMaMCDrdxS"
      },
      "source": [
        "# converting to Networkx\n"
      ]
    },
    {
      "cell_type": "code",
      "execution_count": null,
      "metadata": {
        "id": "Fzt9j4P-rdxS",
        "outputId": "7f92eec8-a17d-487e-9a6f-2de46bd00ed2"
      },
      "outputs": [
        {
          "name": "stdout",
          "output_type": "stream",
          "text": [
            "[0, 1]\n",
            "[2, 3, 4]\n"
          ]
        },
        {
          "data": {
            "text/plain": [
              "OutEdgeView([(0, 1), (1, 0)])"
            ]
          },
          "execution_count": 32,
          "metadata": {},
          "output_type": "execute_result"
        }
      ],
      "source": [
        "G = nx.DiGraph()\n",
        "G.add_nodes_from(range(2))\n",
        "# G = nx.path_graph(2)\n",
        "\n",
        "attrs = {0: {\"vec\": [1,2,3,4]}}\n",
        "nx.set_node_attributes(G, attrs)\n",
        "G.nodes[0][\"vec\"]\n",
        "\n",
        "attrs = {1: {\"vec\": [2,3,4]}}\n",
        "nx.set_node_attributes(G, attrs)\n",
        "print(G.nodes())\n",
        "print(G.nodes[1][\"vec\"])\n",
        "\n",
        "G.add_edge(0,1)\n",
        "G.add_edge(1,0)\n",
        "\n",
        "G.edges()\n",
        "\n"
      ]
    },
    {
      "cell_type": "code",
      "execution_count": null,
      "metadata": {
        "id": "1qMkdrYfrdxT"
      },
      "outputs": [],
      "source": []
    }
  ],
  "metadata": {
    "colab": {
      "provenance": []
    },
    "kernelspec": {
      "display_name": "Python 3",
      "language": "python",
      "name": "python3"
    },
    "language_info": {
      "codemirror_mode": {
        "name": "ipython",
        "version": 3
      },
      "file_extension": ".py",
      "mimetype": "text/x-python",
      "name": "python",
      "nbconvert_exporter": "python",
      "pygments_lexer": "ipython3",
      "version": "3.11.0"
    }
  },
  "nbformat": 4,
  "nbformat_minor": 0
}
