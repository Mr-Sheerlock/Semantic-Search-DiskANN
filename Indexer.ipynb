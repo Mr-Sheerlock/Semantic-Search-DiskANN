{
 "cells": [
  {
   "cell_type": "code",
   "execution_count": 10,
   "metadata": {},
   "outputs": [],
   "source": [
    "from utils import *"
   ]
  },
  {
   "cell_type": "code",
   "execution_count": 14,
   "metadata": {},
   "outputs": [
    {
     "ename": "TypeError",
     "evalue": "unsupported operand type(s) for -: 'set' and 'float'",
     "output_type": "error",
     "traceback": [
      "\u001b[1;31m---------------------------------------------------------------------------\u001b[0m",
      "\u001b[1;31mTypeError\u001b[0m                                 Traceback (most recent call last)",
      "Cell \u001b[1;32mIn[14], line 11\u001b[0m\n\u001b[0;32m      9\u001b[0m rng \u001b[38;5;241m=\u001b[39m np\u001b[38;5;241m.\u001b[39mrandom\u001b[38;5;241m.\u001b[39mdefault_rng(\u001b[38;5;241m50\u001b[39m)\n\u001b[0;32m     10\u001b[0m Query\u001b[38;5;241m=\u001b[39mrng\u001b[38;5;241m.\u001b[39mrandom((\u001b[38;5;241m1\u001b[39m, \u001b[38;5;241m70\u001b[39m), dtype\u001b[38;5;241m=\u001b[39mnp\u001b[38;5;241m.\u001b[39mfloat32)\n\u001b[1;32m---> 11\u001b[0m Greedy_Search(DBGraph,Query,k,L)\n",
      "File \u001b[1;32md:\\Boody\\ADB\\Semantic-Search-DiskANN\\utils.py:71\u001b[0m, in \u001b[0;36mGreedy_Search\u001b[1;34m(start, Query, k, L)\u001b[0m\n\u001b[0;32m     69\u001b[0m possible_frontier\u001b[38;5;241m=\u001b[39msearch_List\u001b[38;5;241m.\u001b[39mdifference(Visited)\n\u001b[0;32m     70\u001b[0m \u001b[38;5;28;01mwhile\u001b[39;00m possible_frontier \u001b[38;5;241m!=\u001b[39m {}:\n\u001b[1;32m---> 71\u001b[0m     p_star,_\u001b[38;5;241m=\u001b[39m get_distance(possible_frontier,Query)\n\u001b[0;32m     72\u001b[0m     search_List\u001b[38;5;241m.\u001b[39madd(p_star\u001b[38;5;241m.\u001b[39mneighbors)\n\u001b[0;32m     73\u001b[0m     Visited\u001b[38;5;241m.\u001b[39madd(p_star)\n",
      "File \u001b[1;32md:\\Boody\\ADB\\Semantic-Search-DiskANN\\utils.py:30\u001b[0m, in \u001b[0;36mget_distance\u001b[1;34m(v1, v2)\u001b[0m\n\u001b[0;32m     29\u001b[0m \u001b[38;5;28;01mdef\u001b[39;00m \u001b[38;5;21mget_distance\u001b[39m(v1,v2):\n\u001b[1;32m---> 30\u001b[0m     \u001b[38;5;28;01mreturn\u001b[39;00m  np\u001b[38;5;241m.\u001b[39mlinalg\u001b[38;5;241m.\u001b[39mnorm(v1\u001b[38;5;241m-\u001b[39mv2)\n",
      "\u001b[1;31mTypeError\u001b[0m: unsupported operand type(s) for -: 'set' and 'float'"
     ]
    }
   ],
   "source": [
    "R=5\n",
    "k=10\n",
    "L=10\n",
    "path='dataset/DB1K.csv'\n",
    "DBGraph=Initialize_Random_Graph(path,R)\n",
    "\n",
    "medoid,min_distance=get_medoid(DBGraph)\n",
    "#how to choose query? how to choose k,L?\n",
    "rng = np.random.default_rng(50)\n",
    "Query=rng.random((1, 70), dtype=np.float32)\n",
    "Greedy_Search(DBGraph,Query,k,L)\n",
    "\n",
    "# for i,vertex in enumerate(DBGraph):\n",
    "#             print(vertex)\n",
    "#             if(i==3):\n",
    "#                 break"
   ]
  }
 ],
 "metadata": {
  "kernelspec": {
   "display_name": "Python 3",
   "language": "python",
   "name": "python3"
  },
  "language_info": {
   "codemirror_mode": {
    "name": "ipython",
    "version": 3
   },
   "file_extension": ".py",
   "mimetype": "text/x-python",
   "name": "python",
   "nbconvert_exporter": "python",
   "pygments_lexer": "ipython3",
   "version": "3.11.0"
  }
 },
 "nbformat": 4,
 "nbformat_minor": 2
}
